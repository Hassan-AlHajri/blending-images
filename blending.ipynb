{
 "cells": [
  {
   "cell_type": "code",
   "execution_count": null,
   "metadata": {},
   "outputs": [],
   "source": [
    "import numpy as np\n",
    "import cv2 as cv\n",
    "\n",
    "img1 = cv.imread('house.tif')\n",
    "img2 = cv.imread('cameraman.tif')\n",
    "\n",
    "for i in range(0,100):\n",
    "   a = i/100\n",
    "   img_out = np.uint8((1-a)*img1) + np.uint8(a*img2)\n",
    "   cv.imshow('add',img_out)\n",
    "   k = cv.waitKey(20)\n",
    "   \n",
    "cv.destroyAllWindows()"
   ]
  }
 ],
 "metadata": {
  "kernelspec": {
   "display_name": "Python 3",
   "language": "python",
   "name": "python3"
  },
  "language_info": {
   "codemirror_mode": {
    "name": "ipython",
    "version": 3
   },
   "file_extension": ".py",
   "mimetype": "text/x-python",
   "name": "python",
   "nbconvert_exporter": "python",
   "pygments_lexer": "ipython3",
   "version": "3.7.3"
  }
 },
 "nbformat": 4,
 "nbformat_minor": 2
}
